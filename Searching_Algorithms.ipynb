{
  "nbformat": 4,
  "nbformat_minor": 0,
  "metadata": {
    "colab": {
      "provenance": []
    },
    "kernelspec": {
      "name": "python3",
      "display_name": "Python 3"
    },
    "language_info": {
      "name": "python"
    }
  },
  "cells": [
    {
      "cell_type": "code",
      "execution_count": null,
      "metadata": {
        "colab": {
          "base_uri": "https://localhost:8080/"
        },
        "id": "C94IL42QR5Q9",
        "outputId": "4e0d4438-3c85-430c-a3dc-3b652658a305"
      },
      "outputs": [
        {
          "output_type": "stream",
          "name": "stdout",
          "text": [
            "33 found at index: 4\n"
          ]
        }
      ],
      "source": [
        "#Linear Search\n",
        "def linear_search(nums, x):\n",
        "  for index, num in enumerate(nums):\n",
        "    if num == x:\n",
        "      return index\n",
        "  return -1\n",
        "\n",
        "\n",
        "#Binary Search\n",
        "def binary_search(nums, x):\n",
        "  #pass\n",
        "  left=0\n",
        "  right=len(nums)-1\n",
        "  mid=0\n",
        "  while left<=right:\n",
        "    mid=(left+right)//2\n",
        "    if nums[mid]==x:\n",
        "      return mid\n",
        "    elif nums[mid]<x:\n",
        "      left=mid+1\n",
        "    else:\n",
        "      right=mid-1\n",
        "  return -1\n",
        "\n",
        "if __name__=='__main__':\n",
        "  arr=[1,3,5,7,33,45,80]\n",
        "  x=33\n",
        "  index=binary_search(arr,x)\n",
        "  print(f\"{x} found at index: {index}\")"
      ]
    },
    {
      "cell_type": "code",
      "source": [
        "#find index of all occurences of list\n",
        "def first_occurrence(arr, target):\n",
        "    left, right = 0, len(arr) - 1\n",
        "    while left <= right:\n",
        "        mid = left + (right - left) // 2\n",
        "        if arr[mid] == target:\n",
        "            if mid == 0 or arr[mid - 1] != target:\n",
        "                return mid\n",
        "            else:\n",
        "                right = mid - 1\n",
        "        elif arr[mid] < target:\n",
        "            left = mid + 1\n",
        "        else:\n",
        "            right = mid - 1\n",
        "    return -1\n",
        "\n",
        "def last_occurrence(arr, target):\n",
        "    left, right = 0, len(arr) - 1\n",
        "    while left <= right:\n",
        "        mid = left + (right - left) // 2\n",
        "        if arr[mid] == target:\n",
        "            if mid == len(arr) - 1 or arr[mid + 1] != target:\n",
        "                return mid\n",
        "            else:\n",
        "                left = mid + 1\n",
        "        elif arr[mid] < target:\n",
        "            left = mid + 1\n",
        "        else:\n",
        "            right = mid - 1\n",
        "    return -1\n",
        "\n",
        "def count_occurrences(arr, target):\n",
        "    first_index = first_occurrence(arr, target)\n",
        "    if first_index == -1:\n",
        "        return 0\n",
        "    last_index = last_occurrence(arr, target)\n",
        "    return last_index - first_index + 1\n",
        "\n",
        "# Example usage\n",
        "arr = [1, 1, 2, 2, 2, 2, 3]\n",
        "target = 2\n",
        "print(f\"Number of occurrences of {target}: {count_occurrences(arr, target)}\")\n",
        "\n",
        "\n"
      ],
      "metadata": {
        "colab": {
          "base_uri": "https://localhost:8080/"
        },
        "id": "K14hNcdWTTkR",
        "outputId": "55b54810-2cb9-44a7-a608-440b333147d7"
      },
      "execution_count": null,
      "outputs": [
        {
          "output_type": "stream",
          "name": "stdout",
          "text": [
            "Number of occurrences of 2: 4\n"
          ]
        }
      ]
    },
    {
      "cell_type": "code",
      "source": [],
      "metadata": {
        "id": "rmBc0A0NbyFs"
      },
      "execution_count": null,
      "outputs": []
    }
  ]
}