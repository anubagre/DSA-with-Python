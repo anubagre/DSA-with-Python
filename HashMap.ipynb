{
  "nbformat": 4,
  "nbformat_minor": 0,
  "metadata": {
    "colab": {
      "provenance": []
    },
    "kernelspec": {
      "name": "python3",
      "display_name": "Python 3"
    },
    "language_info": {
      "name": "python"
    }
  },
  "cells": [
    {
      "cell_type": "code",
      "execution_count": null,
      "metadata": {
        "id": "Xd2ZoC_8W0DO"
      },
      "outputs": [],
      "source": [
        "#Implementation of Hash Map\n",
        "class HashMap:\n",
        "  def __init__(self):\n",
        "    self.MAX=10\n",
        "    self.arr=[None for x in range(self.MAX)]\n",
        "\n",
        "  def get_hash(self,key):\n",
        "    hash=0\n",
        "    for char in key:\n",
        "      hash+=ord(char)\n",
        "    return hash % self.MAX\n",
        "\n",
        "  def __getitem__(self,index):\n",
        "    h=self.get_hash(index)\n",
        "    return self.arr[h]\n",
        "\n",
        "  def __setitem__(self,index,value):\n",
        "    h=self.get_hash(index)\n",
        "    self.arr[h]=value"
      ]
    },
    {
      "cell_type": "code",
      "source": [
        "t=HashMap()\n",
        "t.get_hash(\"march 6\")"
      ],
      "metadata": {
        "colab": {
          "base_uri": "https://localhost:8080/"
        },
        "id": "8PwL-fdZZkNR",
        "outputId": "d1ee8482-f761-41e2-efd8-58aa0c41f78d"
      },
      "execution_count": null,
      "outputs": [
        {
          "output_type": "execute_result",
          "data": {
            "text/plain": [
              "9"
            ]
          },
          "metadata": {},
          "execution_count": 6
        }
      ]
    },
    {
      "cell_type": "code",
      "source": [
        "t=HashMap()\n",
        "t.get_hash(\"march 17\")"
      ],
      "metadata": {
        "colab": {
          "base_uri": "https://localhost:8080/"
        },
        "id": "okcF9wzZamPN",
        "outputId": "3184ffbb-4f03-4481-f13f-37ca39e4305a"
      },
      "execution_count": null,
      "outputs": [
        {
          "output_type": "execute_result",
          "data": {
            "text/plain": [
              "9"
            ]
          },
          "metadata": {},
          "execution_count": 7
        }
      ]
    },
    {
      "cell_type": "code",
      "source": [
        "#Implementation of chaining\n",
        "class HashTable:\n",
        "  def __init__(self):\n",
        "    self.MAX=10\n",
        "    self.arr=[[] for x in range(self.MAX)]\n",
        "\n",
        "  def get_hash(self,key):\n",
        "    hash=0\n",
        "    for char in key:\n",
        "      hash+=ord(char)\n",
        "    return hash % self.MAX\n",
        "\n",
        "  def __getitem__(self,index):\n",
        "    h=self.get_hash(index)\n",
        "    for ele in self.arr[h]:\n",
        "      if ele[0]==index:\n",
        "        return ele[1]\n",
        "\n",
        "  def __setitem__(self,key,value):\n",
        "    h=self.get_hash(key)\n",
        "    #First we check that value already exsists or not\n",
        "    found=False\n",
        "    for idx,ele in enumerate(self.arr[h]):\n",
        "      if len(ele)==2 and ele[0]==key:\n",
        "        self.arr[h][idx]=(key,value)\n",
        "        found=True\n",
        "        break\n",
        "\n",
        "    #Incase element not present\n",
        "    if not found:\n",
        "      self.arr[h].append(key,value)\n",
        "\n",
        "def __delitem__(self, key):\n",
        "  h=self.get_hash(key)\n",
        "  for idx,ele in enumerate(self.arr[h]):\n",
        "    if ele[0]==key:\n",
        "      del self.arr[h][idx]\n"
      ],
      "metadata": {
        "id": "r3HQNb2jVq47"
      },
      "execution_count": null,
      "outputs": []
    },
    {
      "cell_type": "code",
      "source": [
        "#Implementation of linear probing\n",
        "class Hashmap:\n",
        "  def __init__(self):\n",
        "    self.MAX=10\n",
        "    self.arr=[None for x in range(self.MAX)]\n",
        "\n",
        "  def get_hash(self,key):\n",
        "    hash=0\n",
        "    for char in key:\n",
        "      hash+=ord(char)\n",
        "    return hash % self.MAX\n",
        "\n",
        "  def __getitem__(self,key):\n",
        "    h = self.get_hash(key)\n",
        "    if self.arr[h] is None:\n",
        "      return None\n",
        "    else:\n",
        "      if self.arr[h][0] == key:\n",
        "        return self.arr[h][1]\n",
        "      else:\n",
        "        new_h = h\n",
        "        while self.arr[new_h] is not None and self.arr[new_h][0] != key:\n",
        "          new_h = (new_h + 1) % self.MAX\n",
        "          if new_h == h:  # We circled back to the start\n",
        "              return None\n",
        "          if self.arr[new_h] is None:\n",
        "              return None\n",
        "          return self.arr[new_h][1]\n",
        "\n",
        "  def __setitem__(self,key,value):\n",
        "    h = self.get_hash(key)\n",
        "    if self.arr[h] is None:\n",
        "      self.arr[h] = (key, value)\n",
        "    else:\n",
        "      if self.arr[h][0] == key:\n",
        "        self.arr[h] = (key, value)  # Update the value for the existing key\n",
        "      else:\n",
        "        new_h = h\n",
        "        while self.arr[new_h] is not None and self.arr[new_h][0] != key:\n",
        "          new_h = (new_h + 1) % self.MAX\n",
        "          if new_h == h:  # We circled back to the start\n",
        "            raise Exception(\"Hashmap full\")\n",
        "          self.arr[new_h] = (key, value)\n"
      ],
      "metadata": {
        "id": "x0nETDkja0ps"
      },
      "execution_count": null,
      "outputs": []
    },
    {
      "cell_type": "code",
      "source": [
        "# Example usage:\n",
        "h = Hashmap()\n",
        "h[\"march 6\"] = 310\n",
        "h[\"march 17\"] = 420\n",
        "print(h[\"march 6\"])  # Should print 310\n",
        "print(h[\"march 17\"])  # Should print 420"
      ],
      "metadata": {
        "colab": {
          "base_uri": "https://localhost:8080/"
        },
        "id": "oJ2IMPJbuzxy",
        "outputId": "8894e836-37c2-4afc-e0bb-caae01a04e36"
      },
      "execution_count": null,
      "outputs": [
        {
          "output_type": "stream",
          "name": "stdout",
          "text": [
            "310\n",
            "420\n"
          ]
        }
      ]
    }
  ]
}