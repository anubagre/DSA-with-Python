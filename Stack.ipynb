{
  "nbformat": 4,
  "nbformat_minor": 0,
  "metadata": {
    "colab": {
      "provenance": []
    },
    "kernelspec": {
      "name": "python3",
      "display_name": "Python 3"
    },
    "language_info": {
      "name": "python"
    }
  },
  "cells": [
    {
      "cell_type": "code",
      "execution_count": null,
      "metadata": {
        "colab": {
          "base_uri": "https://localhost:8080/"
        },
        "id": "jxYwIUZ2rQFk",
        "outputId": "eec8199d-571f-4f08-fa49-0d531fbeeb7c"
      },
      "outputs": [
        {
          "output_type": "execute_result",
          "data": {
            "text/plain": [
              "['__add__',\n",
              " '__bool__',\n",
              " '__class__',\n",
              " '__class_getitem__',\n",
              " '__contains__',\n",
              " '__copy__',\n",
              " '__delattr__',\n",
              " '__delitem__',\n",
              " '__dir__',\n",
              " '__doc__',\n",
              " '__eq__',\n",
              " '__format__',\n",
              " '__ge__',\n",
              " '__getattribute__',\n",
              " '__getitem__',\n",
              " '__gt__',\n",
              " '__hash__',\n",
              " '__iadd__',\n",
              " '__imul__',\n",
              " '__init__',\n",
              " '__init_subclass__',\n",
              " '__iter__',\n",
              " '__le__',\n",
              " '__len__',\n",
              " '__lt__',\n",
              " '__mul__',\n",
              " '__ne__',\n",
              " '__new__',\n",
              " '__reduce__',\n",
              " '__reduce_ex__',\n",
              " '__repr__',\n",
              " '__reversed__',\n",
              " '__rmul__',\n",
              " '__setattr__',\n",
              " '__setitem__',\n",
              " '__sizeof__',\n",
              " '__str__',\n",
              " '__subclasshook__',\n",
              " 'append',\n",
              " 'appendleft',\n",
              " 'clear',\n",
              " 'copy',\n",
              " 'count',\n",
              " 'extend',\n",
              " 'extendleft',\n",
              " 'index',\n",
              " 'insert',\n",
              " 'maxlen',\n",
              " 'pop',\n",
              " 'popleft',\n",
              " 'remove',\n",
              " 'reverse',\n",
              " 'rotate']"
            ]
          },
          "metadata": {},
          "execution_count": 1
        }
      ],
      "source": [
        "#Implementation of stack using deque()\n",
        "from collections import deque\n",
        "stack=deque()\n",
        "dir(deque)"
      ]
    },
    {
      "cell_type": "code",
      "source": [
        "#Implementation of Stack\n",
        "class Stack:\n",
        "    def __init__(self):\n",
        "        self.stack=deque()\n",
        "    def push(self,data):\n",
        "        self.stack.append(data)\n",
        "    def pop(self):\n",
        "        return self.stack.pop()\n",
        "    def peek(self):\n",
        "        return self.stack[-1]\n",
        "    def isEmpty(self):\n",
        "        return len(self.stack)==0\n",
        "    def size(self):\n",
        "        return len(self.stack)"
      ],
      "metadata": {
        "id": "VsIl8VD2rnh_"
      },
      "execution_count": null,
      "outputs": []
    },
    {
      "cell_type": "code",
      "source": [
        "s=Stack()\n",
        "s.push(5)\n",
        "s.push(6)\n",
        "s.push(7)\n",
        "s.push(8)\n",
        "s.pop()"
      ],
      "metadata": {
        "colab": {
          "base_uri": "https://localhost:8080/"
        },
        "id": "BHRKvarxtVwt",
        "outputId": "ec151a96-7f6c-42ef-ae9d-c63e917c13d8"
      },
      "execution_count": null,
      "outputs": [
        {
          "output_type": "execute_result",
          "data": {
            "text/plain": [
              "8"
            ]
          },
          "metadata": {},
          "execution_count": 4
        }
      ]
    },
    {
      "cell_type": "code",
      "source": [
        "#Using Stack to Reverse a string\n",
        "class Solution:\n",
        "  def reverse_str(self, s):\n",
        "    stack=deque()\n",
        "    for char in s:\n",
        "        stack.append(char)\n",
        "    rev=\"\"\n",
        "    while stack:\n",
        "        rev+=stack.pop()\n",
        "    return rev\n",
        "s=\"hello\"\n",
        "sol=Solution()\n",
        "sol.reverse_str(s)\n"
      ],
      "metadata": {
        "colab": {
          "base_uri": "https://localhost:8080/",
          "height": 36
        },
        "id": "gXQsh_KPtdeL",
        "outputId": "6e955955-8643-4c93-db32-04a446acb1d4"
      },
      "execution_count": null,
      "outputs": [
        {
          "output_type": "execute_result",
          "data": {
            "text/plain": [
              "'olleh'"
            ],
            "application/vnd.google.colaboratory.intrinsic+json": {
              "type": "string"
            }
          },
          "metadata": {},
          "execution_count": 5
        }
      ]
    },
    {
      "cell_type": "code",
      "source": [
        "#Implementing Valid parentheses using Stack\n",
        "class Solution:\n",
        "  def valid_parantheses(self,s):\n",
        "    braces={')':'(','}':'{',']':'['}\n",
        "    for ele in s:\n",
        "      open_braces=braces.values()\n",
        "      close_braces=braces.keys()\n",
        "      if ele in open_braces:\n",
        "        stack.append(ele)\n",
        "      elif ele in close_braces:\n",
        "        if len(stack)==0:\n",
        "          return False\n",
        "        elif stack.pop()!=braces[ele]:\n",
        "          return False\n",
        "\n",
        "    if len(stack)==0:\n",
        "      return True\n",
        "    else:\n",
        "      return False"
      ],
      "metadata": {
        "id": "h9S0VT0guckW"
      },
      "execution_count": null,
      "outputs": []
    },
    {
      "cell_type": "code",
      "source": [
        "s=\"()[}\"\n",
        "sol=Solution()\n",
        "sol.valid_parantheses(s)"
      ],
      "metadata": {
        "colab": {
          "base_uri": "https://localhost:8080/"
        },
        "id": "pJT4rkMuxNow",
        "outputId": "58fbb542-3bd6-4bd6-d30a-4889d4cdd362"
      },
      "execution_count": null,
      "outputs": [
        {
          "output_type": "execute_result",
          "data": {
            "text/plain": [
              "False"
            ]
          },
          "metadata": {},
          "execution_count": 8
        }
      ]
    }
  ]
}